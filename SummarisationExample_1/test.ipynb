{
 "cells": [
  {
   "cell_type": "code",
   "execution_count": 1,
   "metadata": {},
   "outputs": [
    {
     "name": "stdout",
     "output_type": "stream",
     "text": [
      "__main__\n",
      "Relative import failed\n",
      "Absolute import failed\n"
     ]
    }
   ],
   "source": [
    "print(__name__)\n",
    "\n",
    "try:\n",
    "    # Trying to find module in the parent package\n",
    "    from . import mainFile\n",
    "except ImportError:\n",
    "    print('Relative import failed')\n",
    "\n",
    "try:\n",
    "    # Trying to find module on sys.path\n",
    "    import mainFile\n",
    "except ModuleNotFoundError:\n",
    "    print('Absolute import failed')"
   ]
  },
  {
   "cell_type": "code",
   "execution_count": null,
   "metadata": {},
   "outputs": [],
   "source": []
  }
 ],
 "metadata": {
  "kernelspec": {
   "display_name": "Python 3",
   "language": "python",
   "name": "python3"
  },
  "language_info": {
   "codemirror_mode": {
    "name": "ipython",
    "version": 3
   },
   "file_extension": ".py",
   "mimetype": "text/x-python",
   "name": "python",
   "nbconvert_exporter": "python",
   "pygments_lexer": "ipython3",
   "version": "3.7.3"
  }
 },
 "nbformat": 4,
 "nbformat_minor": 2
}
